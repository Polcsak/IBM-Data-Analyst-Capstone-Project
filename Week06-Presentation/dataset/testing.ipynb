{
 "cells": [
  {
   "cell_type": "code",
   "execution_count": 1,
   "metadata": {},
   "outputs": [],
   "source": [
    "import pandas as pd"
   ]
  },
  {
   "cell_type": "code",
   "execution_count": 3,
   "metadata": {},
   "outputs": [],
   "source": [
    "dev_types = pd.Series([\n",
    "    'Developer, full-stack', \n",
    "    'Developer, back-end', \n",
    "    'Developer, back-end;Developer, front-end;Developer, full-stack', \n",
    "    'Developer, front-end', \n",
    "    'Developer, mobile', \n",
    "    'Developer, back-end;Developer, full-stack', \n",
    "    'Student', \n",
    "    'Developer, front-end;Developer, full-stack', \n",
    "    'Developer, desktop or enterprise applications', \n",
    "    'Developer, back-end;Developer, desktop or enterprise applications;Developer, front-end;Developer, full-stack'\n",
    "])"
   ]
  },
  {
   "cell_type": "code",
   "execution_count": 4,
   "metadata": {},
   "outputs": [
    {
     "data": {
      "text/plain": [
       "0                                Developer, full-stack\n",
       "1                                  Developer, back-end\n",
       "2    Developer, back-end;Developer, front-end;Devel...\n",
       "3                                 Developer, front-end\n",
       "4                                    Developer, mobile\n",
       "5            Developer, back-end;Developer, full-stack\n",
       "6                                              Student\n",
       "7           Developer, front-end;Developer, full-stack\n",
       "8        Developer, desktop or enterprise applications\n",
       "9    Developer, back-end;Developer, desktop or ente...\n",
       "dtype: object"
      ]
     },
     "execution_count": 4,
     "metadata": {},
     "output_type": "execute_result"
    }
   ],
   "source": [
    "dev_types"
   ]
  }
 ],
 "metadata": {
  "kernelspec": {
   "display_name": "Python 3",
   "language": "python",
   "name": "python3"
  },
  "language_info": {
   "codemirror_mode": {
    "name": "ipython",
    "version": 3
   },
   "file_extension": ".py",
   "mimetype": "text/x-python",
   "name": "python",
   "nbconvert_exporter": "python",
   "pygments_lexer": "ipython3",
   "version": "3.12.2"
  }
 },
 "nbformat": 4,
 "nbformat_minor": 2
}
